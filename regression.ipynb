{
 "cells": [
  {
   "cell_type": "code",
   "execution_count": 3,
   "metadata": {},
   "outputs": [],
   "source": [
    "import pandas as pd\n",
    "import numpy as np\n",
    "from matplotlib import pyplot as plt\n",
    "from sklearn.datasets import load_boston"
   ]
  },
  {
   "cell_type": "code",
   "execution_count": 4,
   "metadata": {},
   "outputs": [],
   "source": [
    "bs = load_boston()"
   ]
  },
  {
   "cell_type": "code",
   "execution_count": 5,
   "metadata": {},
   "outputs": [
    {
     "name": "stdout",
     "output_type": "stream",
     "text": [
      ".. _boston_dataset:\n",
      "\n",
      "Boston house prices dataset\n",
      "---------------------------\n",
      "\n",
      "**Data Set Characteristics:**  \n",
      "\n",
      "    :Number of Instances: 506 \n",
      "\n",
      "    :Number of Attributes: 13 numeric/categorical predictive. Median Value (attribute 14) is usually the target.\n",
      "\n",
      "    :Attribute Information (in order):\n",
      "        - CRIM     per capita crime rate by town\n",
      "        - ZN       proportion of residential land zoned for lots over 25,000 sq.ft.\n",
      "        - INDUS    proportion of non-retail business acres per town\n",
      "        - CHAS     Charles River dummy variable (= 1 if tract bounds river; 0 otherwise)\n",
      "        - NOX      nitric oxides concentration (parts per 10 million)\n",
      "        - RM       average number of rooms per dwelling\n",
      "        - AGE      proportion of owner-occupied units built prior to 1940\n",
      "        - DIS      weighted distances to five Boston employment centres\n",
      "        - RAD      index of accessibility to radial highways\n",
      "        - TAX      full-value property-tax rate per $10,000\n",
      "        - PTRATIO  pupil-teacher ratio by town\n",
      "        - B        1000(Bk - 0.63)^2 where Bk is the proportion of blacks by town\n",
      "        - LSTAT    % lower status of the population\n",
      "        - MEDV     Median value of owner-occupied homes in $1000's\n",
      "\n",
      "    :Missing Attribute Values: None\n",
      "\n",
      "    :Creator: Harrison, D. and Rubinfeld, D.L.\n",
      "\n",
      "This is a copy of UCI ML housing dataset.\n",
      "https://archive.ics.uci.edu/ml/machine-learning-databases/housing/\n",
      "\n",
      "\n",
      "This dataset was taken from the StatLib library which is maintained at Carnegie Mellon University.\n",
      "\n",
      "The Boston house-price data of Harrison, D. and Rubinfeld, D.L. 'Hedonic\n",
      "prices and the demand for clean air', J. Environ. Economics & Management,\n",
      "vol.5, 81-102, 1978.   Used in Belsley, Kuh & Welsch, 'Regression diagnostics\n",
      "...', Wiley, 1980.   N.B. Various transformations are used in the table on\n",
      "pages 244-261 of the latter.\n",
      "\n",
      "The Boston house-price data has been used in many machine learning papers that address regression\n",
      "problems.   \n",
      "     \n",
      ".. topic:: References\n",
      "\n",
      "   - Belsley, Kuh & Welsch, 'Regression diagnostics: Identifying Influential Data and Sources of Collinearity', Wiley, 1980. 244-261.\n",
      "   - Quinlan,R. (1993). Combining Instance-Based and Model-Based Learning. In Proceedings on the Tenth International Conference of Machine Learning, 236-243, University of Massachusetts, Amherst. Morgan Kaufmann.\n",
      "\n"
     ]
    }
   ],
   "source": [
    "print(bs.DESCR)"
   ]
  },
  {
   "cell_type": "code",
   "execution_count": 6,
   "metadata": {},
   "outputs": [
    {
     "data": {
      "text/plain": [
       "(506, 13)"
      ]
     },
     "execution_count": 6,
     "metadata": {},
     "output_type": "execute_result"
    }
   ],
   "source": [
    "np.shape(bs.data)"
   ]
  },
  {
   "cell_type": "code",
   "execution_count": 7,
   "metadata": {},
   "outputs": [],
   "source": [
    "gg =bs.data[:,12].reshape(-1,1)"
   ]
  },
  {
   "cell_type": "code",
   "execution_count": 8,
   "metadata": {},
   "outputs": [
    {
     "name": "stdout",
     "output_type": "stream",
     "text": [
      "[[ 4.98]\n",
      " [ 9.14]\n",
      " [ 4.03]\n",
      " [ 2.94]\n",
      " [ 5.33]\n",
      " [ 5.21]\n",
      " [12.43]\n",
      " [19.15]\n",
      " [29.93]\n",
      " [17.1 ]\n",
      " [20.45]\n",
      " [13.27]\n",
      " [15.71]\n",
      " [ 8.26]\n",
      " [10.26]\n",
      " [ 8.47]\n",
      " [ 6.58]\n",
      " [14.67]\n",
      " [11.69]\n",
      " [11.28]\n",
      " [21.02]\n",
      " [13.83]\n",
      " [18.72]\n",
      " [19.88]\n",
      " [16.3 ]\n",
      " [16.51]\n",
      " [14.81]\n",
      " [17.28]\n",
      " [12.8 ]\n",
      " [11.98]\n",
      " [22.6 ]\n",
      " [13.04]\n",
      " [27.71]\n",
      " [18.35]\n",
      " [20.34]\n",
      " [ 9.68]\n",
      " [11.41]\n",
      " [ 8.77]\n",
      " [10.13]\n",
      " [ 4.32]\n",
      " [ 1.98]\n",
      " [ 4.84]\n",
      " [ 5.81]\n",
      " [ 7.44]\n",
      " [ 9.55]\n",
      " [10.21]\n",
      " [14.15]\n",
      " [18.8 ]\n",
      " [30.81]\n",
      " [16.2 ]\n",
      " [13.45]\n",
      " [ 9.43]\n",
      " [ 5.28]\n",
      " [ 8.43]\n",
      " [14.8 ]\n",
      " [ 4.81]\n",
      " [ 5.77]\n",
      " [ 3.95]\n",
      " [ 6.86]\n",
      " [ 9.22]\n",
      " [13.15]\n",
      " [14.44]\n",
      " [ 6.73]\n",
      " [ 9.5 ]\n",
      " [ 8.05]\n",
      " [ 4.67]\n",
      " [10.24]\n",
      " [ 8.1 ]\n",
      " [13.09]\n",
      " [ 8.79]\n",
      " [ 6.72]\n",
      " [ 9.88]\n",
      " [ 5.52]\n",
      " [ 7.54]\n",
      " [ 6.78]\n",
      " [ 8.94]\n",
      " [11.97]\n",
      " [10.27]\n",
      " [12.34]\n",
      " [ 9.1 ]\n",
      " [ 5.29]\n",
      " [ 7.22]\n",
      " [ 6.72]\n",
      " [ 7.51]\n",
      " [ 9.62]\n",
      " [ 6.53]\n",
      " [12.86]\n",
      " [ 8.44]\n",
      " [ 5.5 ]\n",
      " [ 5.7 ]\n",
      " [ 8.81]\n",
      " [ 8.2 ]\n",
      " [ 8.16]\n",
      " [ 6.21]\n",
      " [10.59]\n",
      " [ 6.65]\n",
      " [11.34]\n",
      " [ 4.21]\n",
      " [ 3.57]\n",
      " [ 6.19]\n",
      " [ 9.42]\n",
      " [ 7.67]\n",
      " [10.63]\n",
      " [13.44]\n",
      " [12.33]\n",
      " [16.47]\n",
      " [18.66]\n",
      " [14.09]\n",
      " [12.27]\n",
      " [15.55]\n",
      " [13.  ]\n",
      " [10.16]\n",
      " [16.21]\n",
      " [17.09]\n",
      " [10.45]\n",
      " [15.76]\n",
      " [12.04]\n",
      " [10.3 ]\n",
      " [15.37]\n",
      " [13.61]\n",
      " [14.37]\n",
      " [14.27]\n",
      " [17.93]\n",
      " [25.41]\n",
      " [17.58]\n",
      " [14.81]\n",
      " [27.26]\n",
      " [17.19]\n",
      " [15.39]\n",
      " [18.34]\n",
      " [12.6 ]\n",
      " [12.26]\n",
      " [11.12]\n",
      " [15.03]\n",
      " [17.31]\n",
      " [16.96]\n",
      " [16.9 ]\n",
      " [14.59]\n",
      " [21.32]\n",
      " [18.46]\n",
      " [24.16]\n",
      " [34.41]\n",
      " [26.82]\n",
      " [26.42]\n",
      " [29.29]\n",
      " [27.8 ]\n",
      " [16.65]\n",
      " [29.53]\n",
      " [28.32]\n",
      " [21.45]\n",
      " [14.1 ]\n",
      " [13.28]\n",
      " [12.12]\n",
      " [15.79]\n",
      " [15.12]\n",
      " [15.02]\n",
      " [16.14]\n",
      " [ 4.59]\n",
      " [ 6.43]\n",
      " [ 7.39]\n",
      " [ 5.5 ]\n",
      " [ 1.73]\n",
      " [ 1.92]\n",
      " [ 3.32]\n",
      " [11.64]\n",
      " [ 9.81]\n",
      " [ 3.7 ]\n",
      " [12.14]\n",
      " [11.1 ]\n",
      " [11.32]\n",
      " [14.43]\n",
      " [12.03]\n",
      " [14.69]\n",
      " [ 9.04]\n",
      " [ 9.64]\n",
      " [ 5.33]\n",
      " [10.11]\n",
      " [ 6.29]\n",
      " [ 6.92]\n",
      " [ 5.04]\n",
      " [ 7.56]\n",
      " [ 9.45]\n",
      " [ 4.82]\n",
      " [ 5.68]\n",
      " [13.98]\n",
      " [13.15]\n",
      " [ 4.45]\n",
      " [ 6.68]\n",
      " [ 4.56]\n",
      " [ 5.39]\n",
      " [ 5.1 ]\n",
      " [ 4.69]\n",
      " [ 2.87]\n",
      " [ 5.03]\n",
      " [ 4.38]\n",
      " [ 2.97]\n",
      " [ 4.08]\n",
      " [ 8.61]\n",
      " [ 6.62]\n",
      " [ 4.56]\n",
      " [ 4.45]\n",
      " [ 7.43]\n",
      " [ 3.11]\n",
      " [ 3.81]\n",
      " [ 2.88]\n",
      " [10.87]\n",
      " [10.97]\n",
      " [18.06]\n",
      " [14.66]\n",
      " [23.09]\n",
      " [17.27]\n",
      " [23.98]\n",
      " [16.03]\n",
      " [ 9.38]\n",
      " [29.55]\n",
      " [ 9.47]\n",
      " [13.51]\n",
      " [ 9.69]\n",
      " [17.92]\n",
      " [10.5 ]\n",
      " [ 9.71]\n",
      " [21.46]\n",
      " [ 9.93]\n",
      " [ 7.6 ]\n",
      " [ 4.14]\n",
      " [ 4.63]\n",
      " [ 3.13]\n",
      " [ 6.36]\n",
      " [ 3.92]\n",
      " [ 3.76]\n",
      " [11.65]\n",
      " [ 5.25]\n",
      " [ 2.47]\n",
      " [ 3.95]\n",
      " [ 8.05]\n",
      " [10.88]\n",
      " [ 9.54]\n",
      " [ 4.73]\n",
      " [ 6.36]\n",
      " [ 7.37]\n",
      " [11.38]\n",
      " [12.4 ]\n",
      " [11.22]\n",
      " [ 5.19]\n",
      " [12.5 ]\n",
      " [18.46]\n",
      " [ 9.16]\n",
      " [10.15]\n",
      " [ 9.52]\n",
      " [ 6.56]\n",
      " [ 5.9 ]\n",
      " [ 3.59]\n",
      " [ 3.53]\n",
      " [ 3.54]\n",
      " [ 6.57]\n",
      " [ 9.25]\n",
      " [ 3.11]\n",
      " [ 5.12]\n",
      " [ 7.79]\n",
      " [ 6.9 ]\n",
      " [ 9.59]\n",
      " [ 7.26]\n",
      " [ 5.91]\n",
      " [11.25]\n",
      " [ 8.1 ]\n",
      " [10.45]\n",
      " [14.79]\n",
      " [ 7.44]\n",
      " [ 3.16]\n",
      " [13.65]\n",
      " [13.  ]\n",
      " [ 6.59]\n",
      " [ 7.73]\n",
      " [ 6.58]\n",
      " [ 3.53]\n",
      " [ 2.98]\n",
      " [ 6.05]\n",
      " [ 4.16]\n",
      " [ 7.19]\n",
      " [ 4.85]\n",
      " [ 3.76]\n",
      " [ 4.59]\n",
      " [ 3.01]\n",
      " [ 3.16]\n",
      " [ 7.85]\n",
      " [ 8.23]\n",
      " [12.93]\n",
      " [ 7.14]\n",
      " [ 7.6 ]\n",
      " [ 9.51]\n",
      " [ 3.33]\n",
      " [ 3.56]\n",
      " [ 4.7 ]\n",
      " [ 8.58]\n",
      " [10.4 ]\n",
      " [ 6.27]\n",
      " [ 7.39]\n",
      " [15.84]\n",
      " [ 4.97]\n",
      " [ 4.74]\n",
      " [ 6.07]\n",
      " [ 9.5 ]\n",
      " [ 8.67]\n",
      " [ 4.86]\n",
      " [ 6.93]\n",
      " [ 8.93]\n",
      " [ 6.47]\n",
      " [ 7.53]\n",
      " [ 4.54]\n",
      " [ 9.97]\n",
      " [12.64]\n",
      " [ 5.98]\n",
      " [11.72]\n",
      " [ 7.9 ]\n",
      " [ 9.28]\n",
      " [11.5 ]\n",
      " [18.33]\n",
      " [15.94]\n",
      " [10.36]\n",
      " [12.73]\n",
      " [ 7.2 ]\n",
      " [ 6.87]\n",
      " [ 7.7 ]\n",
      " [11.74]\n",
      " [ 6.12]\n",
      " [ 5.08]\n",
      " [ 6.15]\n",
      " [12.79]\n",
      " [ 9.97]\n",
      " [ 7.34]\n",
      " [ 9.09]\n",
      " [12.43]\n",
      " [ 7.83]\n",
      " [ 5.68]\n",
      " [ 6.75]\n",
      " [ 8.01]\n",
      " [ 9.8 ]\n",
      " [10.56]\n",
      " [ 8.51]\n",
      " [ 9.74]\n",
      " [ 9.29]\n",
      " [ 5.49]\n",
      " [ 8.65]\n",
      " [ 7.18]\n",
      " [ 4.61]\n",
      " [10.53]\n",
      " [12.67]\n",
      " [ 6.36]\n",
      " [ 5.99]\n",
      " [ 5.89]\n",
      " [ 5.98]\n",
      " [ 5.49]\n",
      " [ 7.79]\n",
      " [ 4.5 ]\n",
      " [ 8.05]\n",
      " [ 5.57]\n",
      " [17.6 ]\n",
      " [13.27]\n",
      " [11.48]\n",
      " [12.67]\n",
      " [ 7.79]\n",
      " [14.19]\n",
      " [10.19]\n",
      " [14.64]\n",
      " [ 5.29]\n",
      " [ 7.12]\n",
      " [14.  ]\n",
      " [13.33]\n",
      " [ 3.26]\n",
      " [ 3.73]\n",
      " [ 2.96]\n",
      " [ 9.53]\n",
      " [ 8.88]\n",
      " [34.77]\n",
      " [37.97]\n",
      " [13.44]\n",
      " [23.24]\n",
      " [21.24]\n",
      " [23.69]\n",
      " [21.78]\n",
      " [17.21]\n",
      " [21.08]\n",
      " [23.6 ]\n",
      " [24.56]\n",
      " [30.63]\n",
      " [30.81]\n",
      " [28.28]\n",
      " [31.99]\n",
      " [30.62]\n",
      " [20.85]\n",
      " [17.11]\n",
      " [18.76]\n",
      " [25.68]\n",
      " [15.17]\n",
      " [16.35]\n",
      " [17.12]\n",
      " [19.37]\n",
      " [19.92]\n",
      " [30.59]\n",
      " [29.97]\n",
      " [26.77]\n",
      " [20.32]\n",
      " [20.31]\n",
      " [19.77]\n",
      " [27.38]\n",
      " [22.98]\n",
      " [23.34]\n",
      " [12.13]\n",
      " [26.4 ]\n",
      " [19.78]\n",
      " [10.11]\n",
      " [21.22]\n",
      " [34.37]\n",
      " [20.08]\n",
      " [36.98]\n",
      " [29.05]\n",
      " [25.79]\n",
      " [26.64]\n",
      " [20.62]\n",
      " [22.74]\n",
      " [15.02]\n",
      " [15.7 ]\n",
      " [14.1 ]\n",
      " [23.29]\n",
      " [17.16]\n",
      " [24.39]\n",
      " [15.69]\n",
      " [14.52]\n",
      " [21.52]\n",
      " [24.08]\n",
      " [17.64]\n",
      " [19.69]\n",
      " [12.03]\n",
      " [16.22]\n",
      " [15.17]\n",
      " [23.27]\n",
      " [18.05]\n",
      " [26.45]\n",
      " [34.02]\n",
      " [22.88]\n",
      " [22.11]\n",
      " [19.52]\n",
      " [16.59]\n",
      " [18.85]\n",
      " [23.79]\n",
      " [23.98]\n",
      " [17.79]\n",
      " [16.44]\n",
      " [18.13]\n",
      " [19.31]\n",
      " [17.44]\n",
      " [17.73]\n",
      " [17.27]\n",
      " [16.74]\n",
      " [18.71]\n",
      " [18.13]\n",
      " [19.01]\n",
      " [16.94]\n",
      " [16.23]\n",
      " [14.7 ]\n",
      " [16.42]\n",
      " [14.65]\n",
      " [13.99]\n",
      " [10.29]\n",
      " [13.22]\n",
      " [14.13]\n",
      " [17.15]\n",
      " [21.32]\n",
      " [18.13]\n",
      " [14.76]\n",
      " [16.29]\n",
      " [12.87]\n",
      " [14.36]\n",
      " [11.66]\n",
      " [18.14]\n",
      " [24.1 ]\n",
      " [18.68]\n",
      " [24.91]\n",
      " [18.03]\n",
      " [13.11]\n",
      " [10.74]\n",
      " [ 7.74]\n",
      " [ 7.01]\n",
      " [10.42]\n",
      " [13.34]\n",
      " [10.58]\n",
      " [14.98]\n",
      " [11.45]\n",
      " [18.06]\n",
      " [23.97]\n",
      " [29.68]\n",
      " [18.07]\n",
      " [13.35]\n",
      " [12.01]\n",
      " [13.59]\n",
      " [17.6 ]\n",
      " [21.14]\n",
      " [14.1 ]\n",
      " [12.92]\n",
      " [15.1 ]\n",
      " [14.33]\n",
      " [ 9.67]\n",
      " [ 9.08]\n",
      " [ 5.64]\n",
      " [ 6.48]\n",
      " [ 7.88]]\n"
     ]
    }
   ],
   "source": [
    "print(gg)"
   ]
  },
  {
   "cell_type": "code",
   "execution_count": 9,
   "metadata": {},
   "outputs": [
    {
     "data": {
      "text/plain": [
       "(506, 1)"
      ]
     },
     "execution_count": 9,
     "metadata": {},
     "output_type": "execute_result"
    }
   ],
   "source": [
    "np.shape(gg)"
   ]
  },
  {
   "cell_type": "code",
   "execution_count": 10,
   "metadata": {},
   "outputs": [
    {
     "data": {
      "text/plain": [
       "(506, 1)"
      ]
     },
     "execution_count": 10,
     "metadata": {},
     "output_type": "execute_result"
    }
   ],
   "source": [
    "hh =bs.target.reshape(-1,1)\n",
    "np.shape(hh)"
   ]
  },
  {
   "cell_type": "code",
   "execution_count": 113,
   "metadata": {},
   "outputs": [],
   "source": [
    "from sklearn.linear_model import BayesianRidge"
   ]
  },
  {
   "cell_type": "raw",
   "metadata": {},
   "source": []
  },
  {
   "cell_type": "code",
   "execution_count": 114,
   "metadata": {},
   "outputs": [
    {
     "name": "stderr",
     "output_type": "stream",
     "text": [
      "C:\\Users\\Lenovo\\Downloads\\New folder\\lib\\site-packages\\sklearn\\utils\\validation.py:760: DataConversionWarning: A column-vector y was passed when a 1d array was expected. Please change the shape of y to (n_samples, ), for example using ravel().\n",
      "  y = column_or_1d(y, warn=True)\n"
     ]
    },
    {
     "data": {
      "text/plain": [
       "BayesianRidge(alpha_1=1e-06, alpha_2=1e-06, alpha_init=None,\n",
       "              compute_score=False, copy_X=True, fit_intercept=True,\n",
       "              lambda_1=1e-06, lambda_2=1e-06, lambda_init=None, n_iter=300,\n",
       "              normalize=False, tol=0.001, verbose=False)"
      ]
     },
     "execution_count": 114,
     "metadata": {},
     "output_type": "execute_result"
    }
   ],
   "source": [
    "reg = BayesianRidge ()\n",
    "reg.fit(gg,hh)"
   ]
  },
  {
   "cell_type": "code",
   "execution_count": null,
   "metadata": {},
   "outputs": [],
   "source": []
  },
  {
   "cell_type": "code",
   "execution_count": 115,
   "metadata": {},
   "outputs": [],
   "source": [
    "pred = reg.predict(gg)"
   ]
  },
  {
   "cell_type": "code",
   "execution_count": 116,
   "metadata": {},
   "outputs": [
    {
     "data": {
      "image/png": "[encoded data removed]",
      "text/plain": [
       "<Figure size 432x288 with 1 Axes>"
      ]
     },
     "metadata": {
      "needs_background": "light"
     },
     "output_type": "display_data"
    }
   ],
   "source": [
    "%matplotlib inline\n",
    "plt.scatter(gg,hh,color=\"green\")\n",
    "plt.plot(gg,pred,color=\"red\")\n",
    "plt.show()"
   ]
  },
  {
   "cell_type": "code",
   "execution_count": 117,
   "metadata": {},
   "outputs": [],
   "source": [
    "from sklearn.preprocessing import PolynomialFeatures"
   ]
  },
  {
   "cell_type": "code",
   "execution_count": 118,
   "metadata": {},
   "outputs": [],
   "source": [
    "from sklearn.pipeline import make_pipeline"
   ]
  },
  {
   "cell_type": "code",
   "execution_count": 119,
   "metadata": {},
   "outputs": [
    {
     "name": "stderr",
     "output_type": "stream",
     "text": [
      "C:\\Users\\Lenovo\\Downloads\\New folder\\lib\\site-packages\\sklearn\\utils\\validation.py:760: DataConversionWarning: A column-vector y was passed when a 1d array was expected. Please change the shape of y to (n_samples, ), for example using ravel().\n",
      "  y = column_or_1d(y, warn=True)\n"
     ]
    },
    {
     "data": {
      "text/plain": [
       "Pipeline(memory=None,\n",
       "         steps=[('polynomialfeatures',\n",
       "                 PolynomialFeatures(degree=10, include_bias=True,\n",
       "                                    interaction_only=False, order='C')),\n",
       "                ('bayesianridge',\n",
       "                 BayesianRidge(alpha_1=1e-06, alpha_2=1e-06, alpha_init=None,\n",
       "                               compute_score=False, copy_X=True,\n",
       "                               fit_intercept=True, lambda_1=1e-06,\n",
       "                               lambda_2=1e-06, lambda_init=None, n_iter=300,\n",
       "                               normalize=False, tol=0.001, verbose=False))],\n",
       "         verbose=False)"
      ]
     },
     "execution_count": 119,
     "metadata": {},
     "output_type": "execute_result"
    }
   ],
   "source": [
    "model = make_pipeline(PolynomialFeatures(10),reg)\n",
    "model.fit(gg,hh)\n",
    "\n",
    "    "
   ]
  },
  {
   "cell_type": "code",
   "execution_count": 120,
   "metadata": {},
   "outputs": [],
   "source": [
    "predc = model.predict(gg)"
   ]
  },
  {
   "cell_type": "code",
   "execution_count": 121,
   "metadata": {},
   "outputs": [
    {
     "data": {
      "image/png": "[encoded data removed]",
      "text/plain": [
       "<Figure size 432x288 with 1 Axes>"
      ]
     },
     "metadata": {
      "needs_background": "light"
     },
     "output_type": "display_data"
    }
   ],
   "source": [
    "%matplotlib inline\n",
    "plt.scatter(gg,hh,color=\"green\")\n",
    "plt.plot(gg,predc,color=\"red\")\n",
    "plt.xlabel(\"lower income population\")\n",
    "plt.ylabel(\"cost of house\")\n",
    "plt.show()"
   ]
  },
  {
   "cell_type": "code",
   "execution_count": 122,
   "metadata": {},
   "outputs": [],
   "source": [
    "from sklearn.metrics import r2_score"
   ]
  },
  {
   "cell_type": "code",
   "execution_count": 123,
   "metadata": {},
   "outputs": [
    {
     "data": {
      "text/plain": [
       "0.5233822476024941"
      ]
     },
     "execution_count": 123,
     "metadata": {},
     "output_type": "execute_result"
    }
   ],
   "source": [
    "r2_score(predc,hh)"
   ]
  },
  {
   "cell_type": "code",
   "execution_count": null,
   "metadata": {},
   "outputs": [],
   "source": []
  },
  {
   "cell_type": "code",
   "execution_count": null,
   "metadata": {},
   "outputs": [],
   "source": []
  },
  {
   "cell_type": "code",
   "execution_count": null,
   "metadata": {},
   "outputs": [],
   "source": []
  },
  {
   "cell_type": "code",
   "execution_count": null,
   "metadata": {},
   "outputs": [],
   "source": []
  },
  {
   "cell_type": "code",
   "execution_count": null,
   "metadata": {},
   "outputs": [],
   "source": []
  }
 ],
 "metadata": {
  "kernelspec": {
   "display_name": "Python 3",
   "language": "python",
   "name": "python3"
  },
  "language_info": {
   "codemirror_mode": {
    "name": "ipython",
    "version": 3
   },
   "file_extension": ".py",
   "mimetype": "text/x-python",
   "name": "python",
   "nbconvert_exporter": "python",
   "pygments_lexer": "ipython3",
   "version": "3.7.6"
  }
 },
 "nbformat": 4,
 "nbformat_minor": 4
}
