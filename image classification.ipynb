{
 "cells": [
  {
   "cell_type": "code",
   "execution_count": 36,
   "metadata": {},
   "outputs": [],
   "source": [
    "import pandas as pd\n",
    "import numpy as np\n",
    "from matplotlib import pyplot as plt\n",
    "from sklearn.ensemble import  RandomForestClassifier\n",
    "from sklearn.model_selection import train_test_split\n",
    "%matplotlib inline"
   ]
  },
  {
   "cell_type": "code",
   "execution_count": 4,
   "metadata": {},
   "outputs": [],
   "source": [
    "data =pd.read_csv(\"train.csv\")"
   ]
  },
  {
   "cell_type": "code",
   "execution_count": 5,
   "metadata": {},
   "outputs": [
    {
     "data": {
      "text/html": [
       "<div>\n",
       "<style scoped>\n",
       "    .dataframe tbody tr th:only-of-type {\n",
       "        vertical-align: middle;\n",
       "    }\n",
       "\n",
       "    .dataframe tbody tr th {\n",
       "        vertical-align: top;\n",
       "    }\n",
       "\n",
       "    .dataframe thead th {\n",
       "        text-align: right;\n",
       "    }\n",
       "</style>\n",
       "<table border=\"1\" class=\"dataframe\">\n",
       "  <thead>\n",
       "    <tr style=\"text-align: right;\">\n",
       "      <th></th>\n",
       "      <th>label</th>\n",
       "      <th>pixel0</th>\n",
       "      <th>pixel1</th>\n",
       "      <th>pixel2</th>\n",
       "      <th>pixel3</th>\n",
       "      <th>pixel4</th>\n",
       "      <th>pixel5</th>\n",
       "      <th>pixel6</th>\n",
       "      <th>pixel7</th>\n",
       "      <th>pixel8</th>\n",
       "      <th>...</th>\n",
       "      <th>pixel774</th>\n",
       "      <th>pixel775</th>\n",
       "      <th>pixel776</th>\n",
       "      <th>pixel777</th>\n",
       "      <th>pixel778</th>\n",
       "      <th>pixel779</th>\n",
       "      <th>pixel780</th>\n",
       "      <th>pixel781</th>\n",
       "      <th>pixel782</th>\n",
       "      <th>pixel783</th>\n",
       "    </tr>\n",
       "  </thead>\n",
       "  <tbody>\n",
       "    <tr>\n",
       "      <th>0</th>\n",
       "      <td>1</td>\n",
       "      <td>0</td>\n",
       "      <td>0</td>\n",
       "      <td>0</td>\n",
       "      <td>0</td>\n",
       "      <td>0</td>\n",
       "      <td>0</td>\n",
       "      <td>0</td>\n",
       "      <td>0</td>\n",
       "      <td>0</td>\n",
       "      <td>...</td>\n",
       "      <td>0.0</td>\n",
       "      <td>0.0</td>\n",
       "      <td>0.0</td>\n",
       "      <td>0.0</td>\n",
       "      <td>0.0</td>\n",
       "      <td>0.0</td>\n",
       "      <td>0.0</td>\n",
       "      <td>0.0</td>\n",
       "      <td>0.0</td>\n",
       "      <td>0.0</td>\n",
       "    </tr>\n",
       "    <tr>\n",
       "      <th>1</th>\n",
       "      <td>0</td>\n",
       "      <td>0</td>\n",
       "      <td>0</td>\n",
       "      <td>0</td>\n",
       "      <td>0</td>\n",
       "      <td>0</td>\n",
       "      <td>0</td>\n",
       "      <td>0</td>\n",
       "      <td>0</td>\n",
       "      <td>0</td>\n",
       "      <td>...</td>\n",
       "      <td>0.0</td>\n",
       "      <td>0.0</td>\n",
       "      <td>0.0</td>\n",
       "      <td>0.0</td>\n",
       "      <td>0.0</td>\n",
       "      <td>0.0</td>\n",
       "      <td>0.0</td>\n",
       "      <td>0.0</td>\n",
       "      <td>0.0</td>\n",
       "      <td>0.0</td>\n",
       "    </tr>\n",
       "    <tr>\n",
       "      <th>2</th>\n",
       "      <td>1</td>\n",
       "      <td>0</td>\n",
       "      <td>0</td>\n",
       "      <td>0</td>\n",
       "      <td>0</td>\n",
       "      <td>0</td>\n",
       "      <td>0</td>\n",
       "      <td>0</td>\n",
       "      <td>0</td>\n",
       "      <td>0</td>\n",
       "      <td>...</td>\n",
       "      <td>0.0</td>\n",
       "      <td>0.0</td>\n",
       "      <td>0.0</td>\n",
       "      <td>0.0</td>\n",
       "      <td>0.0</td>\n",
       "      <td>0.0</td>\n",
       "      <td>0.0</td>\n",
       "      <td>0.0</td>\n",
       "      <td>0.0</td>\n",
       "      <td>0.0</td>\n",
       "    </tr>\n",
       "    <tr>\n",
       "      <th>3</th>\n",
       "      <td>4</td>\n",
       "      <td>0</td>\n",
       "      <td>0</td>\n",
       "      <td>0</td>\n",
       "      <td>0</td>\n",
       "      <td>0</td>\n",
       "      <td>0</td>\n",
       "      <td>0</td>\n",
       "      <td>0</td>\n",
       "      <td>0</td>\n",
       "      <td>...</td>\n",
       "      <td>0.0</td>\n",
       "      <td>0.0</td>\n",
       "      <td>0.0</td>\n",
       "      <td>0.0</td>\n",
       "      <td>0.0</td>\n",
       "      <td>0.0</td>\n",
       "      <td>0.0</td>\n",
       "      <td>0.0</td>\n",
       "      <td>0.0</td>\n",
       "      <td>0.0</td>\n",
       "    </tr>\n",
       "    <tr>\n",
       "      <th>4</th>\n",
       "      <td>0</td>\n",
       "      <td>0</td>\n",
       "      <td>0</td>\n",
       "      <td>0</td>\n",
       "      <td>0</td>\n",
       "      <td>0</td>\n",
       "      <td>0</td>\n",
       "      <td>0</td>\n",
       "      <td>0</td>\n",
       "      <td>0</td>\n",
       "      <td>...</td>\n",
       "      <td>0.0</td>\n",
       "      <td>0.0</td>\n",
       "      <td>0.0</td>\n",
       "      <td>0.0</td>\n",
       "      <td>0.0</td>\n",
       "      <td>0.0</td>\n",
       "      <td>0.0</td>\n",
       "      <td>0.0</td>\n",
       "      <td>0.0</td>\n",
       "      <td>0.0</td>\n",
       "    </tr>\n",
       "  </tbody>\n",
       "</table>\n",
       "<p>5 rows × 785 columns</p>\n",
       "</div>"
      ],
      "text/plain": [
       "   label  pixel0  pixel1  pixel2  pixel3  pixel4  pixel5  pixel6  pixel7  \\\n",
       "0      1       0       0       0       0       0       0       0       0   \n",
       "1      0       0       0       0       0       0       0       0       0   \n",
       "2      1       0       0       0       0       0       0       0       0   \n",
       "3      4       0       0       0       0       0       0       0       0   \n",
       "4      0       0       0       0       0       0       0       0       0   \n",
       "\n",
       "   pixel8  ...  pixel774  pixel775  pixel776  pixel777  pixel778  pixel779  \\\n",
       "0       0  ...       0.0       0.0       0.0       0.0       0.0       0.0   \n",
       "1       0  ...       0.0       0.0       0.0       0.0       0.0       0.0   \n",
       "2       0  ...       0.0       0.0       0.0       0.0       0.0       0.0   \n",
       "3       0  ...       0.0       0.0       0.0       0.0       0.0       0.0   \n",
       "4       0  ...       0.0       0.0       0.0       0.0       0.0       0.0   \n",
       "\n",
       "   pixel780  pixel781  pixel782  pixel783  \n",
       "0       0.0       0.0       0.0       0.0  \n",
       "1       0.0       0.0       0.0       0.0  \n",
       "2       0.0       0.0       0.0       0.0  \n",
       "3       0.0       0.0       0.0       0.0  \n",
       "4       0.0       0.0       0.0       0.0  \n",
       "\n",
       "[5 rows x 785 columns]"
      ]
     },
     "execution_count": 5,
     "metadata": {},
     "output_type": "execute_result"
    }
   ],
   "source": [
    "data.head()"
   ]
  },
  {
   "cell_type": "code",
   "execution_count": 6,
   "metadata": {},
   "outputs": [
    {
     "data": {
      "text/plain": [
       "<matplotlib.image.AxesImage at 0x2985e0d37c8>"
      ]
     },
     "execution_count": 6,
     "metadata": {},
     "output_type": "execute_result"
    },
    {
     "data": {
      "image/png": "[encoded data removed]",
      "text/plain": [
       "<Figure size 432x288 with 1 Axes>"
      ]
     },
     "metadata": {
      "needs_background": "light"
     },
     "output_type": "display_data"
    }
   ],
   "source": [
    "k = data.iloc[3,1:].values\n",
    "k=k.reshape(28,28).astype('uint8')\n",
    "plt.imshow(k)"
   ]
  },
  {
   "cell_type": "code",
   "execution_count": 102,
   "metadata": {},
   "outputs": [],
   "source": [
    "x = data.iloc[:,1:]\n",
    "y = data.iloc[:,0]\n",
    "x_train,x_test,y_train,y_test=train_test_split(x,y,test_size=0.1,random_state=0)"
   ]
  },
  {
   "cell_type": "code",
   "execution_count": 103,
   "metadata": {},
   "outputs": [
    {
     "data": {
      "text/plain": [
       "3058    4\n",
       "2401    8\n",
       "3103    0\n",
       "3149    1\n",
       "2986    0\n",
       "Name: label, dtype: int64"
      ]
     },
     "execution_count": 103,
     "metadata": {},
     "output_type": "execute_result"
    }
   ],
   "source": [
    "y_train.head()"
   ]
  },
  {
   "cell_type": "code",
   "execution_count": 32,
   "metadata": {},
   "outputs": [
    {
     "name": "stdout",
     "output_type": "stream",
     "text": [
      "4584\n"
     ]
    }
   ],
   "source": [
    "print(len(y))"
   ]
  },
  {
   "cell_type": "code",
   "execution_count": 34,
   "metadata": {},
   "outputs": [
    {
     "data": {
      "text/plain": [
       "pandas.core.series.Series"
      ]
     },
     "execution_count": 34,
     "metadata": {},
     "output_type": "execute_result"
    }
   ],
   "source": [
    "type(y)"
   ]
  },
  {
   "cell_type": "code",
   "execution_count": 54,
   "metadata": {},
   "outputs": [
    {
     "name": "stdout",
     "output_type": "stream",
     "text": [
      "   label  pixel0  pixel1  pixel2  pixel3  pixel4  pixel5  pixel6  pixel7  \\\n",
      "0      1       0       0       0       0       0       0       0       0   \n",
      "\n",
      "   pixel8  ...  pixel774  pixel775  pixel776  pixel777  pixel778  pixel779  \\\n",
      "0       0  ...       0.0       0.0       0.0       0.0       0.0       0.0   \n",
      "\n",
      "   pixel780  pixel781  pixel782  pixel783  \n",
      "0       0.0       0.0       0.0       0.0  \n",
      "\n",
      "[1 rows x 785 columns]\n"
     ]
    }
   ],
   "source": [
    "print(x)"
   ]
  },
  {
   "cell_type": "code",
   "execution_count": 83,
   "metadata": {},
   "outputs": [],
   "source": [
    "rf =RandomForestClassifier(n_estimators=100)\n",
    "rf.fit(x_train.values.astype('uint8') ,y_train.values.astype('uint8'))\n",
    "pred = rf.predict(x_test)"
   ]
  },
  {
   "cell_type": "code",
   "execution_count": 75,
   "metadata": {},
   "outputs": [
    {
     "name": "stdout",
     "output_type": "stream",
     "text": [
      "[2 1 0 0 1 0 5 0 5 2 9 2 8 6 8 5 9 6 5 1 5 0 6 5 0 8 5 2 6 0 1 4 7 8 6 3 5\n",
      " 1 1 1 8 0 2 3 4 6 8 2 3 3 0 3 7 2 4 4 8 4 5 0 9 6 5 2 0 2 1 1 2 6 5 6 3 9\n",
      " 7 4 0 3 3 0 1 1 7 0 6 1 5 6 4 3 2 1 4 8 0 2 1 5 0 9 0 2 1 3 5 2 3 6 5 9 0\n",
      " 6 1 3 6 4 9 7 1 1 7 7 6 7 7 2 9 3 9 1 3 1 8 0 6 0 1 0 5 3 7 8 5 3 6 8 2 6\n",
      " 9 8 1 3 8 0 1 0 8 5 0 6 1 8 2 6 2 3 0 7 3 1 3 7 0 4 7 7 2 7 5 5 3 2 5 9 6\n",
      " 3 4 6 1 8 8 8 6 0 3 3 3 9 2 7 4 4 6 7 9 0 5 4 2 5 7 3 8 6 3 8 4 6 5 3 0 4\n",
      " 4 3 5 1 5 1 3 5 7 1 3 8 6 2 6 6 0 3 6 8 4 1 4 3 9 2 4 3 0 0 7 7 8 0 2 0 9\n",
      " 9 9 7 1 8 7 0 5 5 8 4 4 2 0 9 0 4 1 0 7 2 8 8 2 1 5 4 5 9 5 7 5 4 3 5 3 5\n",
      " 4 3 6 6 2 1 4 2 9 6 2 7 1 3 0 5 1 7 1 2 1 7 9 4 3 2 9 2 8 1 0 2 0 7 2 5 1\n",
      " 3 0 6 1 7 5 6 4 6 1 8 4 8 3 5 8 1 2 9 0 3 8 3 8 1 6 9 7 3 0 0 1 8 5 5 4 4\n",
      " 2 8 6 9 8 2 8 7 1 5 2 1 4 4 4 1 2 1 5 9 2 9 1 7 2 3 8 2 0 4 5 4 8 8 7 8 8\n",
      " 4 0 6 9 7 9 4 1 5 5 0 1 2 2 6 5 3 7 7 4 2 6 9 1 5 8 6 7 8 4 3 6 1 6 7 2 2\n",
      " 1 0 5 3 1 0 5 9 7 6 4 2 1 3 5 9 9 5 3 8 0 3 7 5 2 7 0 3 0 9 4 6 1 9 2 9 6\n",
      " 3 6 6 2 0 9 6 2 1 8 9 6 8 2 0 4 6 2 8 4 3 0 0 9 1 8 7 9 5 2 5 9 0 7 0 7 1\n",
      " 8 7 0 7 8 1 1 6 9 5 1 7 2 7 3 6 6 9 3 5 5 1 8 4 2 0 9 8 3 2 9 0 1 9 3 1 3\n",
      " 4 5 1 1 8 2 3 8 9 1 8 4 9 9 6 0 3 6 5 2 8 8 7 0 9 6 7 6 0 5 1 0 7 3 4 9 8\n",
      " 5 8 0 7 8 4 1 7 3 4 0 5 2 0 8 7 3 0 5 1 6 6 3 9 9 7 6 3 8 8 4 8 2 7 4 3 5\n",
      " 0 9 0 2 1 8 7 9 3 4 4 3 8 7 0 6 2 7 2 2 2 4 7 8 2 1 6 9 3 0 5 0 2 0 7 4 6\n",
      " 9 7 6 8 1 6 7 0 2 6 0 6 2 8 1 8 1 7 3 7 4 1 7 9 3 9 2 5 4 2 0 4 0 6 0 8 6\n",
      " 5 6 8 6 9 5 8 8 7 7 7 5 1 7 9 2 1 5 1 2 6 1 0 4 7 6 5 6 5 5 2 1 2 0 8 5 3\n",
      " 8 7 1 9 0 3 0 0 9 7 5 6 5 7 8 1 7 9 4 6 5 0 4 3 5 7 8 9 0 0 3 8 1 8 8 1 3\n",
      " 2 7 7 7 3 4 4 7 6 1 4 7 4 1 1 2 5 3 3 6 5 2 5 6 5 1 3 1 8 3 1 4 1 9 2 6 6\n",
      " 4 9 4 7 8 3 0 5 7 3 0 3 2 2 8 7 0 0 2 0 9 1 5 8 2 3 9 5 6 7 0 5 7 6 1 0 9\n",
      " 2 2 7 6 2 2 5 9 7 6 9 2 1 7 7 5 6 1 9 9 5 7 7 9 3 2 2 4 9 1 1 6 9 9 5 5 6\n",
      " 0 0 5 3 1 1 3 2 9 4 8 2 6 6 9 6 3 5 2 8 5 2 8 5 1 3 3 5 0]\n"
     ]
    }
   ],
   "source": [
    "print(pred)"
   ]
  },
  {
   "cell_type": "code",
   "execution_count": 72,
   "metadata": {},
   "outputs": [
    {
     "name": "stdout",
     "output_type": "stream",
     "text": [
      "917\n"
     ]
    }
   ],
   "source": [
    "print(len(pred))"
   ]
  },
  {
   "cell_type": "code",
   "execution_count": 73,
   "metadata": {},
   "outputs": [
    {
     "name": "stdout",
     "output_type": "stream",
     "text": [
      "4584\n"
     ]
    }
   ],
   "source": [
    "print(len(x))"
   ]
  },
  {
   "cell_type": "code",
   "execution_count": 76,
   "metadata": {},
   "outputs": [
    {
     "name": "stdout",
     "output_type": "stream",
     "text": [
      "      pixel0  pixel1  pixel2  pixel3  pixel4  pixel5  pixel6  pixel7  pixel8  \\\n",
      "3075       0       0       0       0       0       0       0       0       0   \n",
      "4382       0       0       0       0       0       0       0       0       0   \n",
      "4451       0       0       0       0       0       0       0       0       0   \n",
      "523        0       0       0       0       0       0       0       0       0   \n",
      "2377       0       0       0       0       0       0       0       0       0   \n",
      "...      ...     ...     ...     ...     ...     ...     ...     ...     ...   \n",
      "3671       0       0       0       0       0       0       0       0       0   \n",
      "709        0       0       0       0       0       0       0       0       0   \n",
      "2487       0       0       0       0       0       0       0       0       0   \n",
      "174        0       0       0       0       0       0       0       0       0   \n",
      "1146       0       0       0       0       0       0       0       0       0   \n",
      "\n",
      "      pixel9  ...  pixel774  pixel775  pixel776  pixel777  pixel778  pixel779  \\\n",
      "3075       0  ...       0.0       0.0       0.0       0.0       0.0       0.0   \n",
      "4382       0  ...       0.0       0.0       0.0       0.0       0.0       0.0   \n",
      "4451       0  ...       0.0       0.0       0.0       0.0       0.0       0.0   \n",
      "523        0  ...       0.0       0.0       0.0       0.0       0.0       0.0   \n",
      "2377       0  ...       0.0       0.0       0.0       0.0       0.0       0.0   \n",
      "...      ...  ...       ...       ...       ...       ...       ...       ...   \n",
      "3671       0  ...       0.0       0.0       0.0       0.0       0.0       0.0   \n",
      "709        0  ...       0.0       0.0       0.0       0.0       0.0       0.0   \n",
      "2487       0  ...       0.0       0.0       0.0       0.0       0.0       0.0   \n",
      "174        0  ...       0.0       0.0       0.0       0.0       0.0       0.0   \n",
      "1146       0  ...       0.0       0.0       0.0       0.0       0.0       0.0   \n",
      "\n",
      "      pixel780  pixel781  pixel782  pixel783  \n",
      "3075       0.0       0.0       0.0       0.0  \n",
      "4382       0.0       0.0       0.0       0.0  \n",
      "4451       0.0       0.0       0.0       0.0  \n",
      "523        0.0       0.0       0.0       0.0  \n",
      "2377       0.0       0.0       0.0       0.0  \n",
      "...        ...       ...       ...       ...  \n",
      "3671       0.0       0.0       0.0       0.0  \n",
      "709        0.0       0.0       0.0       0.0  \n",
      "2487       0.0       0.0       0.0       0.0  \n",
      "174        0.0       0.0       0.0       0.0  \n",
      "1146       0.0       0.0       0.0       0.0  \n",
      "\n",
      "[3667 rows x 784 columns]\n"
     ]
    }
   ],
   "source": [
    "print(x_train)"
   ]
  },
  {
   "cell_type": "code",
   "execution_count": 77,
   "metadata": {},
   "outputs": [
    {
     "name": "stdout",
     "output_type": "stream",
     "text": [
      "3667\n"
     ]
    }
   ],
   "source": [
    "print(len(x_train))"
   ]
  },
  {
   "cell_type": "code",
   "execution_count": 78,
   "metadata": {},
   "outputs": [
    {
     "name": "stdout",
     "output_type": "stream",
     "text": [
      "3667\n"
     ]
    }
   ],
   "source": [
    "print(len(y_train))"
   ]
  },
  {
   "cell_type": "code",
   "execution_count": 86,
   "metadata": {},
   "outputs": [
    {
     "name": "stdout",
     "output_type": "stream",
     "text": [
      "2465    5\n",
      "2089    3\n",
      "220     8\n",
      "939     7\n",
      "2864    7\n",
      "       ..\n",
      "517     8\n",
      "4475    0\n",
      "4083    3\n",
      "457     9\n",
      "4337    4\n",
      "Name: label, Length: 917, dtype: int64\n"
     ]
    }
   ],
   "source": [
    "print(y_test)"
   ]
  },
  {
   "cell_type": "code",
   "execution_count": 101,
   "metadata": {},
   "outputs": [],
   "source": [
    "count =0\n",
    "for i in range(len(pred)):\n",
    "    if pred[i] == y_test.values[i]:\n",
    "        count =count+1\n",
    "       \n",
    "    "
   ]
  },
  {
   "cell_type": "code",
   "execution_count": 100,
   "metadata": {},
   "outputs": [
    {
     "name": "stdout",
     "output_type": "stream",
     "text": [
      "82\n"
     ]
    }
   ],
   "source": [
    "print(count)"
   ]
  },
  {
   "cell_type": "code",
   "execution_count": 104,
   "metadata": {},
   "outputs": [
    {
     "name": "stdout",
     "output_type": "stream",
     "text": [
      "accuracy is :8.942202835332607\n"
     ]
    }
   ],
   "source": [
    "h =count/len(pred)\n",
    "g=h*100\n",
    "\n",
    "print(\"accuracy is :\"+(str(g)))"
   ]
  },
  {
   "cell_type": "code",
   "execution_count": null,
   "metadata": {},
   "outputs": [],
   "source": []
  },
  {
   "cell_type": "code",
   "execution_count": null,
   "metadata": {},
   "outputs": [],
   "source": []
  }
 ],
 "metadata": {
  "kernelspec": {
   "display_name": "Python 3",
   "language": "python",
   "name": "python3"
  },
  "language_info": {
   "codemirror_mode": {
    "name": "ipython",
    "version": 3
   },
   "file_extension": ".py",
   "mimetype": "text/x-python",
   "name": "python",
   "nbconvert_exporter": "python",
   "pygments_lexer": "ipython3",
   "version": "3.7.6"
  }
 },
 "nbformat": 4,
 "nbformat_minor": 4
}
